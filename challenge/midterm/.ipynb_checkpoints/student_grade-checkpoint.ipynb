{
 "cells": [
  {
   "cell_type": "code",
   "execution_count": 33,
   "id": "dd1cf672",
   "metadata": {},
   "outputs": [
    {
     "name": "stdout",
     "output_type": "stream",
     "text": [
      "파일 이름을 입력하세요: student.csv\n",
      "-----학생들의 평균 점수-----\n",
      "실바의 평균 점수는 73.66666666666667 입니다.\n",
      "산토스의 평균 점수는 80.44999999999999 입니다.\n",
      "맥그리거의 평균 점수는 85.7 입니다.\n",
      "알도의 평균 점수는 85.43333333333332 입니다.\n",
      "로우지의 평균 점수는 83.10000000000001 입니다.\n",
      "누네스의 평균 점수는 85.93333333333334 입니다.\n"
     ]
    }
   ],
   "source": [
    "# TODO 1: 학생 정보를 딕셔너리에 저장\n",
    "def loadData(filename):\n",
    "    score_dict = {} # 성적을 저장할 딕셔너리 생성\n",
    "    \n",
    "    file = open(filename, 'r', encoding=\"utf8\")\n",
    "    lines = file.readlines() # 파일 내용 읽기\n",
    "    file.close()\n",
    "\n",
    "    for line in lines[1:]:  # 헤더라인(이름,수학,국어,영어) 다음줄부터 범위지정\n",
    "        token = line.strip().split(',') # 쉼표 단위로 단어를 나눔\n",
    "        name = token[0] # 이름 값 가져와서 저장\n",
    "        scores = list(map(float, token[1:])) # 점수를 리스트에 저장\n",
    "        score_dict[name] = scores # 이름을 key로, 점수를 value로 저장\n",
    "\n",
    "    return score_dict # 이름과 점수가 담긴 딕셔너리 반환\n",
    "\n",
    "# TODO 2: 학생 별 평균 점수를 계산\n",
    "def getAverage(numlist):\n",
    "    average = sum(numlist) / len(numlist)\n",
    "    return average # 계산한 평균값을 반환\n",
    "\n",
    "# 예외처리\n",
    "try:\n",
    "    # 파일 이름 입력받기\n",
    "    filename = input(\"파일 이름을 입력하세요: \")\n",
    "    load_file = loadData(filename)\n",
    "\n",
    "    # 학생들의 퍙균 점수를 출력\n",
    "    print(\"-----학생들의 평균 점수-----\")\n",
    "    for name, scores in load_file.items():\n",
    "        average_score = getAverage(scores) # 평균 계산\n",
    "        print(f\"{name}의 평균 점수는 {average_score} 입니다.\")\n",
    "\n",
    "    # 학생들의 평균 점수를 average.txt 파일에 쓰기\n",
    "    score_file = open('average.txt', 'w', encoding=\"utf8\")\n",
    "    score_file.write(\"-----학생들의 평균 점수-----\\n\")\n",
    "    \n",
    "    # 딕셔너리의 key, value 기져오기\n",
    "    for name, scores in load_file.items():\n",
    "        average_score = getAverage(scores) # 평균 계산\n",
    "        score_file.write(f\"{name}의 평균 점수는 {average_score} 입니다.\\n\") # 파일에 쓰기\n",
    "    score_file.close()\n",
    "    \n",
    "# 파일이 없는 경우를 에외처리함\n",
    "except FileNotFoundError:\n",
    "    print(\"파일이 존재하지 않습니다.\")"
   ]
  },
  {
   "cell_type": "code",
   "execution_count": null,
   "id": "8ec8302f",
   "metadata": {},
   "outputs": [],
   "source": []
  }
 ],
 "metadata": {
  "kernelspec": {
   "display_name": "Python 3 (ipykernel)",
   "language": "python",
   "name": "python3"
  },
  "language_info": {
   "codemirror_mode": {
    "name": "ipython",
    "version": 3
   },
   "file_extension": ".py",
   "mimetype": "text/x-python",
   "name": "python",
   "nbconvert_exporter": "python",
   "pygments_lexer": "ipython3",
   "version": "3.11.4"
  }
 },
 "nbformat": 4,
 "nbformat_minor": 5
}
