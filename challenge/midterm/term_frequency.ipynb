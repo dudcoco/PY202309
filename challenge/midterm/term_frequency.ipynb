{
  "nbformat": 4,
  "nbformat_minor": 0,
  "metadata": {
    "colab": {
      "provenance": []
    },
    "kernelspec": {
      "name": "python3",
      "display_name": "Python 3"
    },
    "language_info": {
      "name": "python"
    }
  },
  "cells": [
    {
      "cell_type": "code",
      "execution_count": 6,
      "metadata": {
        "colab": {
          "base_uri": "https://localhost:8080/"
        },
        "id": "phwWiZPeAiyd",
        "outputId": "128e3242-d468-4467-912d-9f0fbdc21b48"
      },
      "outputs": [
        {
          "output_type": "stream",
          "name": "stdout",
          "text": [
            "-----TF dictionary-----\n",
            "{'the': 3, 'quick': 1, 'brown': 1, 'fox': 1, 'jumps': 1, 'over': 1, 'lazy': 1, 'dog': 1, 'a': 3, 'journey': 1, 'of': 2, 'thousand': 1, 'miles': 1, 'begins': 1, 'with': 1, 'single': 1, 'step': 1, 'all': 1, 'that': 1, 'glitters': 1, 'is': 1, 'not': 1, 'gold': 1, 'in': 1, 'middle': 1, 'difficulty': 1, 'lies': 1, 'opportunity': 1, 'she': 1, 'likes': 1, 'to': 1, 'read': 1, 'books': 1}\n",
            "-----Top-3 TF terms-----\n",
            "1 the 3\n",
            "2 a 3\n",
            "3 of 2\n"
          ]
        }
      ],
      "source": [
        "import operator\n",
        "\n",
        "sentences = [\n",
        "    \"The quick brown fox jumps over the lazy dog.\",\n",
        "    \"A journey of a thousand miles begins with a single step.\",\n",
        "    \"All that glitters is not gold.\",\n",
        "    \"In the middle of difficulty lies opportunity.\",\n",
        "    \"She likes to read books.\"\n",
        "]\n",
        "\n",
        "# TODO 1: 토큰 집합 만들기\n",
        "total_terms = set()\n",
        "\n",
        "# 토큰 별 단어 빈도 저장할 딕셔너리\n",
        "term_frequency_dict = {}\n",
        "\n",
        "# TODO 2: 토큰 별 단어 빈도를 딕셔너리에 저장\n",
        "for sentence in sentences:\n",
        "    # 문장 내 점(.)을 제거하고, 모든 문자를 소문자로 변환 후 공백을 기준으로 단어를 나누어 저장\n",
        "    tokens = sentence.replace('.', '').lower().split()\n",
        "\n",
        "    for token in tokens:\n",
        "        total_terms.add(token)  # 토큰 집합에 토큰 추가\n",
        "        # 토큰이 이미 빈도수 딕셔너리에 존재한다면 빈도수를 1 증가시킴\n",
        "        if token in term_frequency_dict:\n",
        "            term_frequency_dict[token] += 1\n",
        "        # 토큰이 빈도수 딕셔너리 내에 존재하지 않으면 이 토큰은 1번만 있으므로 빈도수를 1로 설정\n",
        "        else:\n",
        "            term_frequency_dict[token] = 1\n",
        "\n",
        "# 토큰 빈도 출력\n",
        "print(\"-----TF dictionary-----\")\n",
        "print(term_frequency_dict)\n",
        "# 토큰별로 몇 번 나왔는지 모든 토큰과 횟수를 출력함\n",
        "\n",
        "# Top-3 토큰 빈도를 갖는 단어의 순위, 단어, 빈도 출력\n",
        "print(\"-----Top-3 TF terms-----\")\n",
        "sorted_terms = sorted(term_frequency_dict.items(), key=operator.itemgetter(1), reverse=True)\n",
        "for i in range(3):\n",
        "    term, frequency = sorted_terms[i]\n",
        "    print(f\"{i + 1} {term} {frequency}\")\n"
      ]
    }
  ]
}