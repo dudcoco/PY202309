{
 "cells": [
  {
   "cell_type": "code",
   "execution_count": 47,
   "id": "b23108f2",
   "metadata": {},
   "outputs": [
    {
     "name": "stdout",
     "output_type": "stream",
     "text": [
      "Enter English number ranging from 1 to 5: three\n",
      "three is 삼\n"
     ]
    }
   ],
   "source": [
    "#1\n",
    "\n",
    "# 영어, 한국어 숫자 1~5까지의 딕셔너리 생성\n",
    "numbers = {\"one\":\"일\", \"two\":\"이\", \"three\":\"삼\", \"four\":\"사\", \"five\":\"오\"}\n",
    "\n",
    "# 숫자를 영어단어로 입력받기\n",
    "eng_num = input(\"Enter English number ranging from 1 to 5: \")\n",
    "# 입력받은 숫자 영어단어를 key로 사용하여 이에 대응하는 value 찾아서 출력\n",
    "print(f\"{eng_num} is\", numbers[eng_num])"
   ]
  },
  {
   "cell_type": "code",
   "execution_count": 45,
   "id": "5d4b55d3",
   "metadata": {},
   "outputs": [
    {
     "name": "stdout",
     "output_type": "stream",
     "text": [
      "Name:  Moving  / average:  4.0\n",
      "Name:  Mask Girl  / average:  3.6666666666666665\n",
      "Name:  Oppenheimer  / average:  3.3333333333333335\n"
     ]
    }
   ],
   "source": [
    "#2\n",
    "\n",
    "# rating 딕셔너리 생성\n",
    "ratings = {\"Moving\":{\"Misoo\":4, \"Kwon\":3, \"Soo\":5},\n",
    "          \"Mask Girl\":{\"Misoo\":3, \"Kwon\":4, \"Soo\":4},\n",
    "          \"Oppenheimer\":{\"Kwon\":3, \"Bob\":3, \"David\":4}}\n",
    "\n",
    "# 딕셔너리에서 key만 뽑아와 리스트 생성(영화제목) \n",
    "ratings_list = list(ratings.keys())\n",
    "\n",
    "# 딕셔너리에서 value만 뽑아와 리스트 생성(3명의 점수 리스트)\n",
    "list1 = list(ratings[ratings_list[0]].values())\n",
    "list2 = list(ratings[ratings_list[1]].values())\n",
    "list3 = list(ratings[ratings_list[2]].values())\n",
    "\n",
    "# 각 영화별로 평점 평균 계산하여 출력\n",
    "print(\"Name: \", ratings_list[0], \" / average: \", sum(list1)/len(list1))\n",
    "print(\"Name: \", ratings_list[1], \" / average: \", sum(list2)/len(list2))\n",
    "print(\"Name: \", ratings_list[2], \" / average: \", sum(list3)/len(list3))"
   ]
  },
  {
   "cell_type": "code",
   "execution_count": 46,
   "id": "c7509cf8",
   "metadata": {},
   "outputs": [
    {
     "name": "stdout",
     "output_type": "stream",
     "text": [
      "Enter user1's 1st friend name: 철수\n",
      "Enter user1's 2nd friend name: 영수\n",
      "Enter user1's 3rd friend name: 영희\n",
      "Enter user2's 1st friend name: 철희\n",
      "Enter user2's 2nd friend name: 영수\n",
      "Enter user2's 3rd friend name: 동수\n",
      "All friends:  영수 동수 철수 영희 철희\n"
     ]
    }
   ],
   "source": [
    "#3\n",
    "\n",
    "# user1의 친구 3명 입력받기\n",
    "u1_name1 = input(\"Enter user1's 1st friend name: \")\n",
    "u1_name2 = input(\"Enter user1's 2nd friend name: \")\n",
    "u1_name3 = input(\"Enter user1's 3rd friend name: \")\n",
    "\n",
    "# user2의 친구 3명 입력받기\n",
    "u2_name1 = input(\"Enter user2's 1st friend name: \")\n",
    "u2_name2 = input(\"Enter user2's 2nd friend name: \")\n",
    "u2_name3 = input(\"Enter user2's 3rd friend name: \")\n",
    "\n",
    "# 친구 리스트 생성\n",
    "friends_list = [u1_name1, u1_name2, u1_name3, u2_name1, u2_name2, u2_name3]\n",
    "# set으로 변환\n",
    "friends_set = set(friends_list)\n",
    "\n",
    "# 친구 집합 변환\n",
    "print(\"All friends: \", *friends_set )"
   ]
  },
  {
   "cell_type": "code",
   "execution_count": null,
   "id": "fb3b439b",
   "metadata": {},
   "outputs": [],
   "source": []
  }
 ],
 "metadata": {
  "kernelspec": {
   "display_name": "Python 3 (ipykernel)",
   "language": "python",
   "name": "python3"
  },
  "language_info": {
   "codemirror_mode": {
    "name": "ipython",
    "version": 3
   },
   "file_extension": ".py",
   "mimetype": "text/x-python",
   "name": "python",
   "nbconvert_exporter": "python",
   "pygments_lexer": "ipython3",
   "version": "3.11.4"
  }
 },
 "nbformat": 4,
 "nbformat_minor": 5
}
