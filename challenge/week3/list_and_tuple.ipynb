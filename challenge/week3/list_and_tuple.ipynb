{
 "cells": [
  {
   "cell_type": "code",
   "execution_count": 13,
   "id": "c2aa988f",
   "metadata": {},
   "outputs": [
    {
     "name": "stdout",
     "output_type": "stream",
     "text": [
      "Enter 1st number: 50\n",
      "Enter 2nd number: 40\n",
      "Enter 3rd number: 90\n",
      "Enter 4th number: 10\n",
      "Enter 5th number: 30\n",
      "max :  90\n",
      "min :  10\n",
      "average :  44.0\n"
     ]
    }
   ],
   "source": [
    "#1 \n",
    "num_list = [0, 0, 0, 0, 0] # 5개 요소 가지는 리스트 생성\n",
    "# 리스트에 5개 숫자 입력받아 저장\n",
    "num_list[0] = int(input(\"Enter 1st number: \"))\n",
    "num_list[1] = int(input(\"Enter 2nd number: \"))\n",
    "num_list[2] = int(input(\"Enter 3rd number: \"))\n",
    "num_list[3] = int(input(\"Enter 4th number: \"))\n",
    "num_list[4] = int(input(\"Enter 5th number: \"))\n",
    "\n",
    "# 최댓값, 최솟값, 평균 계산 후 출력\n",
    "print(\"max : \", max(num_list))\n",
    "print(\"min : \", min(num_list))\n",
    "avg = sum(num_list) / len(num_list)\n",
    "print(\"average : \", avg)"
   ]
  },
  {
   "cell_type": "code",
   "execution_count": 19,
   "id": "b12af3b2",
   "metadata": {},
   "outputs": [
    {
     "name": "stdout",
     "output_type": "stream",
     "text": [
      "What is your favorite singer? Oh My Girl\n",
      "['BTS', 'Black Pink', 'Oh My Girl']\n"
     ]
    }
   ],
   "source": [
    "#2\n",
    "# singer 리스트 생성\n",
    "singer = [\"BTS\", \"Black Pink\"]\n",
    "# 가수 이름 입력받기\n",
    "fav_singer = input(\"What is your favorite singer? \")\n",
    "singer.append(fav_singer) # 기존 singer 리스트의 맨 끝에 입력받은 가수 추가\n",
    "sorted(singer) # 리스트 정렬\n",
    "print(singer) # 정렬된 리스트 출력"
   ]
  },
  {
   "cell_type": "code",
   "execution_count": 22,
   "id": "c4a775f7",
   "metadata": {},
   "outputs": [
    {
     "name": "stdout",
     "output_type": "stream",
     "text": [
      "('tennis', 'football', 'baseball', 'basketball', 'golf')\n",
      "Please enter one of the sport name from above: golf\n",
      "golf has index number:  4\n",
      "Enter a number between 0 and 4: 2\n",
      "baseball\n"
     ]
    }
   ],
   "source": [
    "#3\n",
    "sports = ('tennis', 'football', 'baseball', 'basketball', 'golf') # sports 튜플 생성\n",
    "print(sports) # 튜플 출력\n",
    "\n",
    "sport_name = input(\"Please enter one of the sport name from above: \") # sport 이름 입력받음\n",
    "print(sport_name, \"has index number: \", sports.index(sport_name)) # 입력받은 이름의 인덱스 출력\n",
    "\n",
    "number = int(input(\"Enter a number between 0 and 4: \")) # 0~4의 인덱스 값 입력받기\n",
    "print(sports[number]) # 인덱스 값에 맞는 요소 출력\n"
   ]
  },
  {
   "cell_type": "code",
   "execution_count": 29,
   "id": "3a34028d",
   "metadata": {},
   "outputs": [
    {
     "name": "stdout",
     "output_type": "stream",
     "text": [
      "menu:  Americano Caffe Latte Caffe Mocha Iced Tea\n",
      "Enter the 1st item sold yesterday: Caffe Mocha\n",
      "Enter the 2nd item sold yesterday: Iced Tea\n",
      "Enter the 3rd item sold yesterday: Americano\n",
      "Enter the 4th item sold yesterday: Caffe Latte\n",
      "Enter the 5th item sold yesterday: Caffe Mocha\n",
      "Enter the 1st item sold today: Americano\n",
      "Enter the 2nd item sold today: Americano\n",
      "Enter the 3rd item sold today: Americano\n",
      "Enter the 4th item sold today: Iced Tea\n",
      "Enter the 5th item sold today: Caffe Latte\n",
      "Yesterday sales:  Caffe Mocha Iced Tea Americano Caffe Latte Caffe Mocha\n",
      "Today sales:  Americano Americano Americano Iced Tea Caffe Latte\n",
      "Americano sales:  4\n"
     ]
    }
   ],
   "source": [
    "#4 for문 사용하지말고 튜플만 사용해서 작성하기 대소문자 구분하기. * 사용해서 리스트출력\n",
    "menu = ('Americano', 'Caffe Latte', 'Caffe Mocha', 'Iced Tea')\n",
    "print(\"menu: \", *menu)\n",
    "\n",
    "y_list = []\n",
    "y_num1 = input(\"Enter the 1st item sold yesterday: \")\n",
    "y_num2 = input(\"Enter the 2nd item sold yesterday: \")\n",
    "y_num3 = input(\"Enter the 3rd item sold yesterday: \")\n",
    "y_num4 = input(\"Enter the 4th item sold yesterday: \")\n",
    "y_num5 = input(\"Enter the 5th item sold yesterday: \")\n",
    "y_list.append(y_num1)\n",
    "y_list.append(y_num2)\n",
    "y_list.append(y_num3)\n",
    "y_list.append(y_num4)\n",
    "y_list.append(y_num5)\n",
    "\n",
    "t_list = []\n",
    "t_num1 = input(\"Enter the 1st item sold today: \")\n",
    "t_num2 = input(\"Enter the 2nd item sold today: \")\n",
    "t_num3 = input(\"Enter the 3rd item sold today: \")\n",
    "t_num4 = input(\"Enter the 4th item sold today: \")\n",
    "t_num5 = input(\"Enter the 5th item sold today: \")\n",
    "t_list.append(t_num1)\n",
    "t_list.append(t_num2)\n",
    "t_list.append(t_num3)\n",
    "t_list.append(t_num4)\n",
    "t_list.append(t_num5)\n",
    "\n",
    "print(\"Yesterday sales: \", *y_list)\n",
    "print(\"Today sales: \", *t_list)\n",
    "all_list = y_list + t_list\n",
    "print(\"Americano sales: \", all_list.count(\"Americano\"))"
   ]
  },
  {
   "cell_type": "code",
   "execution_count": null,
   "id": "725e1b11",
   "metadata": {},
   "outputs": [],
   "source": []
  },
  {
   "cell_type": "code",
   "execution_count": null,
   "id": "6d2963ce",
   "metadata": {},
   "outputs": [],
   "source": []
  }
 ],
 "metadata": {
  "kernelspec": {
   "display_name": "Python 3 (ipykernel)",
   "language": "python",
   "name": "python3"
  },
  "language_info": {
   "codemirror_mode": {
    "name": "ipython",
    "version": 3
   },
   "file_extension": ".py",
   "mimetype": "text/x-python",
   "name": "python",
   "nbconvert_exporter": "python",
   "pygments_lexer": "ipython3",
   "version": "3.11.4"
  }
 },
 "nbformat": 4,
 "nbformat_minor": 5
}
