{
 "cells": [
  {
   "cell_type": "code",
   "execution_count": 3,
   "id": "789c518f",
   "metadata": {},
   "outputs": [
    {
     "name": "stdout",
     "output_type": "stream",
     "text": [
      "1. 암호화 2. 복호화 중 선택하세요: 1\n",
      "입력 파일 이름을 입력하세요: data.txt\n",
      "출력 파일 이름을 입력하세요: data_enc.txt\n",
      "안 50604 얬\n",
      "녕 45497 놹\n",
      "하 54716 햼\n",
      "세 49564 솜\n",
      "요 50936 웸\n",
      "data.txt --> data_enc.txt Finish to transform\n"
     ]
    }
   ],
   "source": [
    "choice = int(input(\"1. 암호화 2. 복호화 중 선택하세요: \"))\n",
    "in_filename = input(\"입력 파일 이름을 입력하세요: \")\n",
    "out_filename = input(\"출력 파일 이름을 입력하세요: \")\n",
    "\n",
    "token_jump = 0\n",
    "\n",
    "# 암호화 토큰 간격 지정\n",
    "if choice == 1:\n",
    "    token_jump = 100\n",
    "# 복호화 토큰 간격 지정\n",
    "elif choice == 2:\n",
    "    token_jump = -100\n",
    "    \n",
    "in_fp = open(in_filename, \"r\", encoding=\"utf8\")\n",
    "out_fp = open(out_filename, \"w\", encoding=\"utf8\")\n",
    "\n",
    "# 파일 읽기\n",
    "in_lines = in_fp.readlines()\n",
    "\n",
    "for in_line in in_lines :\n",
    "    out_str = \"\"\n",
    "    for i in range(0, len(in_line)):\n",
    "        ch = in_line[i]\n",
    "        ch_num = ord(ch)\n",
    "        ch_num = ch_num + token_jump\n",
    "        ch2 = chr(ch_num)\n",
    "        out_str = out_str + ch2\n",
    "        print(ch, ch_num, ch2)\n",
    "        \n",
    "    out_fp.write(out_str)\n",
    "\n",
    "# 파일 닫기\n",
    "out_fp.close()\n",
    "in_fp.close()\n",
    "\n",
    "print(\"%s --> %s Finish to transform\" %(in_filename, out_filename))"
   ]
  },
  {
   "cell_type": "code",
   "execution_count": null,
   "id": "af33b9ad",
   "metadata": {},
   "outputs": [],
   "source": []
  }
 ],
 "metadata": {
  "kernelspec": {
   "display_name": "Python 3 (ipykernel)",
   "language": "python",
   "name": "python3"
  },
  "language_info": {
   "codemirror_mode": {
    "name": "ipython",
    "version": 3
   },
   "file_extension": ".py",
   "mimetype": "text/x-python",
   "name": "python",
   "nbconvert_exporter": "python",
   "pygments_lexer": "ipython3",
   "version": "3.11.4"
  }
 },
 "nbformat": 4,
 "nbformat_minor": 5
}
