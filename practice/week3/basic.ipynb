{
 "cells": [
  {
   "cell_type": "code",
   "execution_count": 9,
   "id": "a8a33a24",
   "metadata": {},
   "outputs": [
    {
     "name": "stdout",
     "output_type": "stream",
     "text": [
      "1. current list =  [30, 10, 20, 50, 40]\n",
      "2. append(60) =  [30, 10, 20, 50, 40, 60]\n",
      "3. item after pop() =  60\n",
      "4. list after pop() =  [30, 10, 20, 50, 40]\n",
      "5. after sort() =  [10, 20, 30, 40, 50]\n",
      "6. after reverse() =  [50, 40, 30, 20, 10]\n",
      "7. index for 20 =  3\n",
      "8. after insert(2, 222) =  [50, 40, 222, 30, 20, 10]\n",
      "9. after remove(222) =  [50, 40, 30, 20, 10]\n",
      "10. after extend([100, 200, 100]) =  [50, 40, 30, 20, 10, 100, 200, 100]\n",
      "11. the number of 100 =  2\n"
     ]
    }
   ],
   "source": [
    "# list 실습\n",
    "\n",
    "sample_list = [30, 10, 20, 50, 40]\n",
    "print(\"1. current list = \", sample_list) # 현재 리스트 출력\n",
    "\n",
    "sample_list.append(60)\n",
    "print(\"2. append(60) = \", sample_list) # sample_list 마지막에 60이 추가된 리스트 출력\n",
    "\n",
    "print(\"3. item after pop() = \", sample_list.pop()) # sample_list의 맨 마지막 값을 삭제하고 그 값을 반환함\n",
    "print(\"4. list after pop() = \", sample_list) # pop() 이후 맨 마지막 값이 삭제된 sample_list 값 출력\n",
    "\n",
    "sample_list.sort()\n",
    "print(\"5. after sort() = \", sample_list) # 오름차순으로 정렬된 리스트 출력\n",
    "\n",
    "sample_list.reverse()\n",
    "print(\"6. after reverse() = \", sample_list) # 순서가 뒤집혀진 리스트 출력\n",
    "\n",
    "print(\"7. index for 20 = \", sample_list.index(20)) # 요소값 20의 인덱스 출력\n",
    "\n",
    "sample_list.insert(2, 222)\n",
    "print(\"8. after insert(2, 222) = \", sample_list) # 리스트의 인덱스 2에 222 요소값을 삽입한 리스트 결과 출력\n",
    "\n",
    "sample_list.remove(222)\n",
    "print(\"9. after remove(222) = \", sample_list) # 리스트 요소값 222를 삭제한 결과 출력\n",
    "\n",
    "new_list = [100, 200, 100]\n",
    "sample_list.extend(new_list)\n",
    "print(\"10. after extend([100, 200, 100]) = \", sample_list) # sample_list의 끝에 new_list를 추가해 확장된 리스트 출력\n",
    "\n",
    "print(\"11. the number of 100 = \", sample_list.count(100)) # 100이라는 요소값이 몇 개 있는지 출력\n"
   ]
  },
  {
   "cell_type": "code",
   "execution_count": 11,
   "id": "49c728f0",
   "metadata": {},
   "outputs": [
    {
     "name": "stdout",
     "output_type": "stream",
     "text": [
      "turtle bye!\n"
     ]
    }
   ],
   "source": [
    "import turtle\n",
    "\n",
    "t = turtle.Turtle()\n",
    "radius_list = [100, 200, 50] # 반지름 리스트\n",
    "move = 20 \n",
    "\n",
    "t.shape(\"turtle\")\n",
    "\n",
    "for i in range(0, len(radius_list)): # i가 0부터 radius_list의 길이와 같아질 때까지 아래 문장 반복\n",
    "    radius = radius_list[i] # radius_list 안의 요소들을 반지름 값으로 사용\n",
    "    t.circle(radius) # 반지름 값을 가지고 원 그리기\n",
    "    t.fd(move) # move에 저장된 값만큼 앞으로 이동\n",
    "    \n",
    "turtle.done()\n",
    "try:\n",
    "    turtle.bye()\n",
    "except:\n",
    "    print(\"turtle bye!\")"
   ]
  },
  {
   "cell_type": "code",
   "execution_count": null,
   "id": "282a611e",
   "metadata": {},
   "outputs": [],
   "source": []
  }
 ],
 "metadata": {
  "kernelspec": {
   "display_name": "Python 3 (ipykernel)",
   "language": "python",
   "name": "python3"
  },
  "language_info": {
   "codemirror_mode": {
    "name": "ipython",
    "version": 3
   },
   "file_extension": ".py",
   "mimetype": "text/x-python",
   "name": "python",
   "nbconvert_exporter": "python",
   "pygments_lexer": "ipython3",
   "version": "3.11.4"
  }
 },
 "nbformat": 4,
 "nbformat_minor": 5
}
