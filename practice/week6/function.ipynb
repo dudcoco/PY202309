{
 "cells": [
  {
   "cell_type": "code",
   "execution_count": 3,
   "id": "a1a8af78",
   "metadata": {},
   "outputs": [
    {
     "name": "stdout",
     "output_type": "stream",
     "text": [
      "** Start Lotto **\n",
      "Number:  6 22 25 28 31 42 "
     ]
    }
   ],
   "source": [
    "import random # 랜덤 모듈 불러오기\n",
    "\n",
    "# 로또 번호 랜덤으로 뽑는 함수 생성\n",
    "def get_number():\n",
    "    return random.randrange(1, 46)\n",
    "\n",
    "lotto = []\n",
    "num = 0\n",
    "print(\"** Start Lotto **\")\n",
    "\n",
    "while True:\n",
    "    num = get_number() # 랜덤으로 로또 번호를 뽑는 함수 get_number() 호출\n",
    "    \n",
    "    if lotto.count(num) == 0: \n",
    "        lotto.append(num) # 로또 리스트에 번호 넣기\n",
    "        \n",
    "    if len(lotto) >= 6: # 로또 리스트 요소 6개면 반복문 종료\n",
    "        break\n",
    "        \n",
    "print(\"Number: \", end = ' ')\n",
    "lotto.sort() # 로또 리스트 정렬\n",
    "for number in lotto:\n",
    "    print(number, end=' ')\n"
   ]
  },
  {
   "cell_type": "code",
   "execution_count": null,
   "id": "a8be4f41",
   "metadata": {},
   "outputs": [],
   "source": []
  }
 ],
 "metadata": {
  "kernelspec": {
   "display_name": "Python 3 (ipykernel)",
   "language": "python",
   "name": "python3"
  },
  "language_info": {
   "codemirror_mode": {
    "name": "ipython",
    "version": 3
   },
   "file_extension": ".py",
   "mimetype": "text/x-python",
   "name": "python",
   "nbconvert_exporter": "python",
   "pygments_lexer": "ipython3",
   "version": "3.11.4"
  }
 },
 "nbformat": 4,
 "nbformat_minor": 5
}
