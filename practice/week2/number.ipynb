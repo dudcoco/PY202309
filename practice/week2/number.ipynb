{
 "cells": [
  {
   "cell_type": "code",
   "execution_count": 9,
   "id": "180922a2",
   "metadata": {},
   "outputs": [
    {
     "name": "stdout",
     "output_type": "stream",
     "text": [
      "What do you call a bear with no teeth?\n",
      "A gummy bear!\n"
     ]
    }
   ],
   "source": [
    "#1\n",
    "print(\"What do you call a bear with no teeth?\\nA gummy bear!\") # \\n 사용하여 줄바꿈"
   ]
  },
  {
   "cell_type": "code",
   "execution_count": 4,
   "id": "10c3a931",
   "metadata": {},
   "outputs": [
    {
     "name": "stdout",
     "output_type": "stream",
     "text": [
      "Enter your name: youngchae\n",
      "Hello youngchae\n"
     ]
    }
   ],
   "source": [
    "#2\n",
    "name = input(\"Enter your name: \") # 이름 입력받기\n",
    "print(\"Hello\", name) # \"Hello 이름\" 형태 출력"
   ]
  },
  {
   "cell_type": "code",
   "execution_count": 5,
   "id": "c41860c2",
   "metadata": {},
   "outputs": [
    {
     "name": "stdout",
     "output_type": "stream",
     "text": [
      "Enter your name: Youngchae\n",
      "Enter your last name: Lee\n",
      "Hello Youngchae Lee\n"
     ]
    }
   ],
   "source": [
    "#3\n",
    "name = input(\"Enter your name: \") # name 입력받기\n",
    "last_name = input(\"Enter your last name: \") # last name 입력받기\n",
    "print(\"Hello\", name, last_name) # \"Hello name lastname\" 형태로 출력"
   ]
  },
  {
   "cell_type": "code",
   "execution_count": 7,
   "id": "8d432d39",
   "metadata": {},
   "outputs": [
    {
     "name": "stdout",
     "output_type": "stream",
     "text": [
      "Enter the first number: 10\n",
      "Enter the second number: 30\n",
      "10 + 30 = 40\n"
     ]
    }
   ],
   "source": [
    "#4\n",
    "first_num = int(input(\"Enter the first number: \")) # 첫번쨰 수 정수형으로 입력받기\n",
    "second_num = int(input(\"Enter the second number: \")) # 두번쨰 수 정수형으로 입력받기\n",
    "num_sum = first_num + second_num # 첫번째 수와 두번째 수를 더해서 num_sum 변수에 저장\n",
    "print(first_num, \"+\", second_num, \"=\", num_sum) # 첫번쨰 수+두번째 수 수식 및 결과값 출력"
   ]
  },
  {
   "cell_type": "code",
   "execution_count": 12,
   "id": "583e4f3d",
   "metadata": {},
   "outputs": [
    {
     "name": "stdout",
     "output_type": "stream",
     "text": [
      "Enter the first number: 10\n",
      "Enter the second number: 20\n",
      "Enter the third number: 30\n",
      "10 + 20 * 30 = 610\n",
      "( 10 + 20 ) * 30 = 900\n"
     ]
    }
   ],
   "source": [
    "#5\n",
    "num1 = int(input(\"Enter the first number: \")) # 첫번째 수 정수형으로 입력받기\n",
    "num2 = int(input(\"Enter the second number: \")) # 두번째 수 정수형으로 입력받기\n",
    "num3 = int(input(\"Enter the third number: \")) # 세번째 수 정수형으로 입력받기\n",
    "first = num1 + num2 * num3 # 첫번째 수식 계산\n",
    "second = (num1 + num2) * num3 # 두번째 수식 계산\n",
    "print(num1, \"+\", num2, \"*\", num3, \"=\", first) # 첫번째 수식 출력\n",
    "print(\"(\", num1, \"+\", num2,\")\", \"*\", num3, \"=\", second) # 두번째 수식 출력"
   ]
  },
  {
   "cell_type": "code",
   "execution_count": 16,
   "id": "20cb7936",
   "metadata": {},
   "outputs": [
    {
     "name": "stdout",
     "output_type": "stream",
     "text": [
      "Enter the number of slices of pizze you started with: 10\n",
      "How many slices have you eaten: 5\n",
      "You have  5 slicing remaining.\n"
     ]
    }
   ],
   "source": [
    "#6\n",
    "pizza_num = int(input(\"Enter the number of slices of pizze you started with: \")) # 피자 개수 입력받기\n",
    "slice_num = int(input(\"How many slices have you eaten: \")) # 먹을 피자 개수 입력받기\n",
    "result = pizza_num - slice_num # 피자 개수 - 먹을 피자 개수 계산\n",
    "print(\"You have \", result, \"slicing remaining.\") # 남은 피자 조각 개수 출력"
   ]
  },
  {
   "cell_type": "code",
   "execution_count": 19,
   "id": "34538ba2",
   "metadata": {},
   "outputs": [
    {
     "name": "stdout",
     "output_type": "stream",
     "text": [
      "What is your name? Youngchae\n",
      "How old are you? 22\n",
      "Youngchae , next birthday you will be 23\n"
     ]
    }
   ],
   "source": [
    "#7\n",
    "name = input(\"What is your name? \") # 이름 입력받기\n",
    "old = int(input(\"How old are you? \")) # 나이 입력받기\n",
    "next_old = old + 1 # 현재 나이에 1 더한 값 계산\n",
    "print(name, \", next birthday you will be\", next_old) # 출력"
   ]
  },
  {
   "cell_type": "code",
   "execution_count": 20,
   "id": "1625159e",
   "metadata": {},
   "outputs": [
    {
     "name": "stdout",
     "output_type": "stream",
     "text": [
      "What is the total cost of the bill? 5500\n",
      "How many people are there? 3\n",
      "Each person should pay 1833.3333333333333 won.\n"
     ]
    }
   ],
   "source": [
    "#8\n",
    "cost = int(input(\"What is the total cost of the bill? \"))\n",
    "people = int(input(\"How many people are there? \"))\n",
    "each_people_cost = cost / people\n",
    "print(\"Each person should pay\", each_people_cost, \"won.\")"
   ]
  },
  {
   "cell_type": "code",
   "execution_count": null,
   "id": "62d646db",
   "metadata": {},
   "outputs": [],
   "source": []
  }
 ],
 "metadata": {
  "kernelspec": {
   "display_name": "Python 3 (ipykernel)",
   "language": "python",
   "name": "python3"
  },
  "language_info": {
   "codemirror_mode": {
    "name": "ipython",
    "version": 3
   },
   "file_extension": ".py",
   "mimetype": "text/x-python",
   "name": "python",
   "nbconvert_exporter": "python",
   "pygments_lexer": "ipython3",
   "version": "3.11.4"
  }
 },
 "nbformat": 4,
 "nbformat_minor": 5
}
