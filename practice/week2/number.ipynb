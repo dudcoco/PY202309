{
 "cells": [
  {
   "cell_type": "code",
   "execution_count": 9,
<<<<<<< HEAD
   "id": "57b24cd2",
=======
   "id": "180922a2",
>>>>>>> d3f6ce91ecc3520518beb32a905d46cf4a16d4c7
   "metadata": {},
   "outputs": [
    {
     "name": "stdout",
     "output_type": "stream",
     "text": [
      "What do you call a bear with no teeth?\n",
      "A gummy bear!\n"
     ]
    }
   ],
   "source": [
    "#1\n",
    "print(\"What do you call a bear with no teeth?\\nA gummy bear!\") # \\n 사용하여 줄바꿈"
   ]
  },
  {
   "cell_type": "code",
   "execution_count": 4,
<<<<<<< HEAD
   "id": "9a955fef",
=======
   "id": "10c3a931",
>>>>>>> d3f6ce91ecc3520518beb32a905d46cf4a16d4c7
   "metadata": {},
   "outputs": [
    {
     "name": "stdout",
     "output_type": "stream",
     "text": [
      "Enter your name: youngchae\n",
      "Hello youngchae\n"
     ]
    }
   ],
   "source": [
    "#2\n",
    "name = input(\"Enter your name: \") # 이름 입력받기\n",
    "print(\"Hello\", name) # \"Hello 이름\" 형태 출력"
   ]
  },
  {
   "cell_type": "code",
   "execution_count": 5,
<<<<<<< HEAD
   "id": "2b17703c",
=======
   "id": "c41860c2",
>>>>>>> d3f6ce91ecc3520518beb32a905d46cf4a16d4c7
   "metadata": {},
   "outputs": [
    {
     "name": "stdout",
     "output_type": "stream",
     "text": [
      "Enter your name: Youngchae\n",
      "Enter your last name: Lee\n",
      "Hello Youngchae Lee\n"
     ]
    }
   ],
   "source": [
    "#3\n",
    "name = input(\"Enter your name: \") # name 입력받기\n",
    "last_name = input(\"Enter your last name: \") # last name 입력받기\n",
    "print(\"Hello\", name, last_name) # \"Hello name lastname\" 형태로 출력"
   ]
  },
  {
   "cell_type": "code",
   "execution_count": 7,
<<<<<<< HEAD
   "id": "fce2820a",
=======
   "id": "8d432d39",
>>>>>>> d3f6ce91ecc3520518beb32a905d46cf4a16d4c7
   "metadata": {},
   "outputs": [
    {
     "name": "stdout",
     "output_type": "stream",
     "text": [
      "Enter the first number: 10\n",
      "Enter the second number: 30\n",
      "10 + 30 = 40\n"
     ]
    }
   ],
   "source": [
    "#4\n",
    "first_num = int(input(\"Enter the first number: \")) # 첫번쨰 수 정수형으로 입력받기\n",
    "second_num = int(input(\"Enter the second number: \")) # 두번쨰 수 정수형으로 입력받기\n",
    "num_sum = first_num + second_num # 첫번째 수와 두번째 수를 더해서 num_sum 변수에 저장\n",
    "print(first_num, \"+\", second_num, \"=\", num_sum) # 첫번쨰 수+두번째 수 수식 및 결과값 출력"
   ]
  },
  {
   "cell_type": "code",
   "execution_count": 12,
<<<<<<< HEAD
   "id": "f90fc0dc",
=======
   "id": "583e4f3d",
>>>>>>> d3f6ce91ecc3520518beb32a905d46cf4a16d4c7
   "metadata": {},
   "outputs": [
    {
     "name": "stdout",
     "output_type": "stream",
     "text": [
      "Enter the first number: 10\n",
      "Enter the second number: 20\n",
      "Enter the third number: 30\n",
      "10 + 20 * 30 = 610\n",
      "( 10 + 20 ) * 30 = 900\n"
     ]
    }
   ],
   "source": [
    "#5\n",
    "num1 = int(input(\"Enter the first number: \")) # 첫번째 수 정수형으로 입력받기\n",
    "num2 = int(input(\"Enter the second number: \")) # 두번째 수 정수형으로 입력받기\n",
    "num3 = int(input(\"Enter the third number: \")) # 세번째 수 정수형으로 입력받기\n",
    "first = num1 + num2 * num3 # 첫번째 수식 계산\n",
    "second = (num1 + num2) * num3 # 두번째 수식 계산\n",
    "print(num1, \"+\", num2, \"*\", num3, \"=\", first) # 첫번째 수식 출력\n",
    "print(\"(\", num1, \"+\", num2,\")\", \"*\", num3, \"=\", second) # 두번째 수식 출력"
   ]
  },
  {
   "cell_type": "code",
   "execution_count": 16,
<<<<<<< HEAD
   "id": "30bf47f6",
=======
   "id": "20cb7936",
>>>>>>> d3f6ce91ecc3520518beb32a905d46cf4a16d4c7
   "metadata": {},
   "outputs": [
    {
     "name": "stdout",
     "output_type": "stream",
     "text": [
      "Enter the number of slices of pizze you started with: 10\n",
      "How many slices have you eaten: 5\n",
      "You have  5 slicing remaining.\n"
     ]
    }
   ],
   "source": [
    "#6\n",
    "pizza_num = int(input(\"Enter the number of slices of pizze you started with: \")) # 피자 개수 입력받기\n",
    "slice_num = int(input(\"How many slices have you eaten: \")) # 먹을 피자 개수 입력받기\n",
    "result = pizza_num - slice_num # 피자 개수 - 먹을 피자 개수 계산\n",
    "print(\"You have \", result, \"slicing remaining.\") # 남은 피자 조각 개수 출력"
   ]
  },
  {
   "cell_type": "code",
   "execution_count": 19,
<<<<<<< HEAD
   "id": "beaa7a5f",
=======
   "id": "34538ba2",
>>>>>>> d3f6ce91ecc3520518beb32a905d46cf4a16d4c7
   "metadata": {},
   "outputs": [
    {
     "name": "stdout",
     "output_type": "stream",
     "text": [
      "What is your name? Youngchae\n",
      "How old are you? 22\n",
      "Youngchae , next birthday you will be 23\n"
     ]
    }
   ],
   "source": [
    "#7\n",
    "name = input(\"What is your name? \") # 이름 입력받기\n",
    "old = int(input(\"How old are you? \")) # 나이 입력받기\n",
    "next_old = old + 1 # 현재 나이에 1 더한 값 계산\n",
    "print(name, \", next birthday you will be\", next_old) # 출력"
   ]
  },
  {
   "cell_type": "code",
   "execution_count": 20,
<<<<<<< HEAD
   "id": "e411a840",
=======
   "id": "1625159e",
>>>>>>> d3f6ce91ecc3520518beb32a905d46cf4a16d4c7
   "metadata": {},
   "outputs": [
    {
     "name": "stdout",
     "output_type": "stream",
     "text": [
      "What is the total cost of the bill? 5500\n",
      "How many people are there? 3\n",
      "Each person should pay 1833.3333333333333 won.\n"
     ]
    }
   ],
   "source": [
    "#8\n",
<<<<<<< HEAD
    "cost = int(input(\"What is the total cost of the bill? \")) # 총 비용 입력받기\n",
    "people = int(input(\"How many people are there? \")) # 사람 수 입력받기\n",
    "each_people_cost = cost / people # 1인당 부담 금액 계산\n",
    "print(\"Each person should pay\", each_people_cost, \"won.\") # 1인당 부담 금액 출력"
   ]
  },
  {
   "cell_type": "code",
   "execution_count": 7,
   "id": "a6caa44b",
   "metadata": {},
   "outputs": [
    {
     "name": "stdout",
     "output_type": "stream",
     "text": [
      "Enter the number of days: 10\n",
      "In 10 there are...\n",
      "240 hours\n",
      "14400 minutes\n",
      "864000 seconds\n"
     ]
    }
   ],
   "source": [
    "#9\n",
    "days = int(input(\"Enter the number of days: \")) # 일수 입력받기\n",
    "print(\"In\", days, \"there are...\") \n",
    "hours = days * 24 # 일수를 시간으로 변환\n",
    "minutes = hours * 60 # 일수를 분으로 변환\n",
    "seconds = minutes * 60 # 일수를 초로 변환\n",
    "# 변환값 출력\n",
    "print(hours, \"hours\") \n",
    "print(minutes, \"minutes\")\n",
    "print(seconds, \"seconds\")"
   ]
  },
  {
   "cell_type": "code",
   "execution_count": 9,
   "id": "c35ade51",
   "metadata": {},
   "outputs": [
    {
     "name": "stdout",
     "output_type": "stream",
     "text": [
      "Enter the number of kilos: 10\n",
      "That is 22.040000000000003 pounds\n"
     ]
    }
   ],
   "source": [
    "#10\n",
    "kilos = int(input(\"Enter the number of kilos: \")) # 킬로 입력받기\n",
    "pounds = kilos * 2.204 # 파운드로 변환\n",
    "print(\"That is\", pounds, \"pounds\") # 변환값 출력"
   ]
  },
  {
   "cell_type": "code",
   "execution_count": 13,
   "id": "1db4c296",
   "metadata": {},
   "outputs": [
    {
     "name": "stdout",
     "output_type": "stream",
     "text": [
      "Enter the number over 100: 120\n",
      "Enter the number under 10: 5\n",
      "5 goes into 120 24 times\n"
     ]
    }
   ],
   "source": [
    "#11\n",
    "over = int(input(\"Enter the number over 100: \")) # 100보다 큰 수 입력받기\n",
    "under = int(input(\"Enter the number under 10: \")) # 10보다 작은 수 입력받기\n",
    "result = over // under # under 값이 over 값에 몇 번 들어가는지 계산\n",
    "print(under, \"goes into\", over, result, \"times\") # 계산값 출력"
=======
    "cost = int(input(\"What is the total cost of the bill? \"))\n",
    "people = int(input(\"How many people are there? \"))\n",
    "each_people_cost = cost / people\n",
    "print(\"Each person should pay\", each_people_cost, \"won.\")"
>>>>>>> d3f6ce91ecc3520518beb32a905d46cf4a16d4c7
   ]
  },
  {
   "cell_type": "code",
   "execution_count": null,
<<<<<<< HEAD
   "id": "166c27bd",
=======
   "id": "62d646db",
>>>>>>> d3f6ce91ecc3520518beb32a905d46cf4a16d4c7
   "metadata": {},
   "outputs": [],
   "source": []
  }
 ],
 "metadata": {
  "kernelspec": {
   "display_name": "Python 3 (ipykernel)",
   "language": "python",
   "name": "python3"
  },
  "language_info": {
   "codemirror_mode": {
    "name": "ipython",
    "version": 3
   },
   "file_extension": ".py",
   "mimetype": "text/x-python",
   "name": "python",
   "nbconvert_exporter": "python",
   "pygments_lexer": "ipython3",
   "version": "3.11.4"
  }
 },
 "nbformat": 4,
 "nbformat_minor": 5
}
