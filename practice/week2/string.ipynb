{
 "cells": [
  {
   "cell_type": "code",
   "execution_count": 1,
   "id": "fa4f4ccf",
   "metadata": {},
   "outputs": [
    {
     "name": "stdout",
     "output_type": "stream",
     "text": [
      "Enter your first name: Youngchae\n",
      "The length of your name is 9\n"
     ]
    }
   ],
   "source": [
    "#1\n",
    "name = input(\"Enter your first name: \") # 이름 입력받기\n",
    "length = len(name) # 이름 길이 계산\n",
    "print(\"The length of your name is\", length) # 이름 길이 출력"
   ]
  },
  {
   "cell_type": "code",
   "execution_count": 3,
   "id": "8868559c",
   "metadata": {},
   "outputs": [
    {
     "name": "stdout",
     "output_type": "stream",
     "text": [
      "Enter your first name: Youngchae\n",
      "Enter your last name: Lee\n",
      "Your name is with a blank is Youngchae Lee\n",
      "The total length is 13\n"
     ]
    }
   ],
   "source": [
    "# 2\n",
    "first_name = input(\"Enter your first name: \") # first name 입력받기\n",
    "last_name = input(\"Enter your last name: \") # last name 입력받기\n",
    "full_name = first_name + \" \" + last_name # 중간에 공백 포함하여 붙이기\n",
    "length = len(full_name) # 이름 길이 계산\n",
    "print(\"Your name is with a blank is\", full_name) # 공백 포함 이름 출력\n",
    "print(\"The total length is\", length) # 이름 길이 출력"
   ]
  },
  {
   "cell_type": "code",
   "execution_count": 5,
   "id": "3eefff67",
   "metadata": {},
   "outputs": [
    {
     "name": "stdout",
     "output_type": "stream",
     "text": [
      "Enter the word: Youngchae\n",
      "UPPER: YOUNGCHAE\n",
      "lower: youngchae\n"
     ]
    }
   ],
   "source": [
    "#3\n",
    "word = input(\"Enter the word: \") # 단어 입력받기\n",
    "upper_word = word.upper() # 모두 대문자로 변환\n",
    "lower_word = word.lower() # 모두 소문자로 변환\n",
    "print(\"UPPER:\", upper_word) # 대문자 변환 단어 출력\n",
    "print(\"lower:\", lower_word) # 소문자 변환 단어 출력"
   ]
  },
  {
   "cell_type": "code",
   "execution_count": 7,
   "id": "660f1d41",
   "metadata": {},
   "outputs": [
    {
     "name": "stdout",
     "output_type": "stream",
     "text": [
      "Enter your first name: youngchae\n",
      "New first name: Youngchae\n"
     ]
    }
   ],
   "source": [
    "#4\n",
    "name = input(\"Enter your first name: \") # 이름 입력받기\n",
    "first_upper = name[0].upper() + name[1:] # 첫번째 글자만 대문자로 변경하여 붙이기\n",
    "print(\"New first name:\", first_upper) # 새로운 이름 출력"
   ]
  },
  {
   "cell_type": "code",
   "execution_count": null,
   "id": "3df4f0f7",
   "metadata": {},
   "outputs": [],
   "source": []
  }
 ],
 "metadata": {
  "kernelspec": {
   "display_name": "Python 3 (ipykernel)",
   "language": "python",
   "name": "python3"
  },
  "language_info": {
   "codemirror_mode": {
    "name": "ipython",
    "version": 3
   },
   "file_extension": ".py",
   "mimetype": "text/x-python",
   "name": "python",
   "nbconvert_exporter": "python",
   "pygments_lexer": "ipython3",
   "version": "3.11.4"
  }
 },
 "nbformat": 4,
 "nbformat_minor": 5
}
