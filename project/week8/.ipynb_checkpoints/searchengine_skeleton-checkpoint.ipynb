{
 "cells": [
  {
   "cell_type": "code",
   "execution_count": 1,
   "id": "453dace9",
   "metadata": {},
   "outputs": [
    {
     "name": "stdout",
     "output_type": "stream",
     "text": [
      "영어 쿼리를 입력하세요.hello my name is\n",
      "rank\tIndex\tscore\tsentence\n",
      "1\t526\t0.3333333333333333\tBob is my brother.\n",
      "2\t679\t0.3333333333333333\tMy name is Mike.\n",
      "3\t190\t0.16666666666666666\tIt is Sunday.\n",
      "4\t314\t0.16666666666666666\tThis is Washington.\n",
      "5\t710\t0.16666666666666666\tTravel is exciting.\n",
      "6\t538\t0.14285714285714285\tMy hobby is traveling.\n",
      "7\t45\t0.125\tThis method is called *acupuncture.\n",
      "8\t107\t0.125\tBut this is very interesting.\n",
      "9\t293\t0.125\tB : When is it?\n",
      "10\t453\t0.125\tMy mother is sketching them.\n"
     ]
    }
   ],
   "source": [
    "import operator\n",
    "\n",
    "# 1. Indexing\n",
    "## https://github.com/jungyeul/korean-parallel-corpora\n",
    "file_name = \"jhe-koen-dev.en\"\n",
    "lines = open(file_name, \"r\", encoding=\"utf8\").readlines()\n",
    "file_tokens_pairs = []\n",
    "for line in lines:\n",
    "    tokens = line.strip().split(\" \")\n",
    "    file_tokens_pairs.append(tokens)\n",
    "\n",
    "# 2. Input the query\n",
    "query = input(\"영어 쿼리를 입력하세요.\")\n",
    "preprocessed_query = query.strip().split(\" \")\n",
    "query_token_set = set(preprocessed_query)\n",
    "\n",
    "# 3. Calculate similarities based on a same token set\n",
    "score_dict = {}\n",
    "for i in range(len(file_tokens_pairs)):\n",
    "    file_token_set = set(file_tokens_pairs[i])\n",
    "    all_tokens = query_token_set | file_token_set\n",
    "    same_tokens = query_token_set & file_token_set\n",
    "    similarity = len(same_tokens) / len(all_tokens)\n",
    "    score_dict[i] = similarity\n",
    "\n",
    "# 4. Sort the similarity list\n",
    "sorted_score_list = sorted(score_dict.items(), key = operator.itemgetter(1), reverse=True)\n",
    "\n",
    "# 5. Print the result\n",
    "if sorted_score_list[0][1] == 0.0:\n",
    "    print(\"There is no similar sentence.\")\n",
    "else:\n",
    "    print(\"rank\", \"Index\", \"score\", \"sentence\", sep = \"\\t\")\n",
    "    rank = 1\n",
    "    for i, score  in sorted_score_list:\n",
    "        print(rank, i, score, ' '.join(file_tokens_pairs[i]), sep = \"\\t\")\n",
    "        if rank == 10:\n",
    "            break\n",
    "        rank = rank + 1"
   ]
  },
  {
   "cell_type": "code",
   "execution_count": null,
   "id": "c581f6c3",
   "metadata": {},
   "outputs": [],
   "source": []
  }
 ],
 "metadata": {
  "kernelspec": {
   "display_name": "Python 3 (ipykernel)",
   "language": "python",
   "name": "python3"
  },
  "language_info": {
   "codemirror_mode": {
    "name": "ipython",
    "version": 3
   },
   "file_extension": ".py",
   "mimetype": "text/x-python",
   "name": "python",
   "nbconvert_exporter": "python",
   "pygments_lexer": "ipython3",
   "version": "3.11.4"
  }
 },
 "nbformat": 4,
 "nbformat_minor": 5
}
